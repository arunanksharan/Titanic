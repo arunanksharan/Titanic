{
 "cells": [
  {
   "cell_type": "markdown",
   "metadata": {},
   "source": [
    "**Machine Learning Checklist**\n",
    "1. Frame the problem and look at the big picture.\n",
    "2. Get the data.\n",
    "3. Explore the data to gain insights.\n",
    "4. Prepare the data to better expose the underlying data patterns to Machine Learning algorithms.\n",
    "5. Explore many different models and short-list the best ones.\n",
    "6. Fine-tune your models and combine them into a great solution.\n",
    "7. Present your solution.\n",
    "8. Launch, monitor, and maintain your system."
   ]
  },
  {
   "cell_type": "markdown",
   "metadata": {},
   "source": [
    "**1. Frame the problem and look at the big picture**\n",
    "- Goal: Predict the survival of the passengers in test set.\n",
    "- Objective: Creation of a supervised binary classifier (Survived: 1, Did Not Survive: 0)\n",
    "- Measurement of Performance: Create a confusion matrix and compute Accuracy, Recall, Precision and f-score.\n",
    "- List the assumptions.\n",
    "\n",
    "**2. Get the data**\n",
    "- Completed\n",
    "\n",
    "**3. Explore the data to get insights**\n",
    "- Study each attribute and its characteristics:\n",
    "    \n",
    "    * Name\n",
    "    \n",
    "    * Type (categorical, int/float, bounded/unbounded, text, structured, etc.)\n",
    "    \n",
    "    * % of missing values\n",
    "    \n",
    "    * Noisiness and type of noise (stochastic, outliers, rounding errors, etc.)\n",
    "    \n",
    "    * Possibly useful for the task?\n",
    "    \n",
    "    * Type of distribution (Gaussian, uniform, logarithmic, etc.)\n",
    "\n",
    "- For supervised learning tasks, identify the target attribute(s).\n",
    "- Visualize the data.\n",
    "- Study the correlations between attributes.\n",
    "- Study how you would solve the problem manually.\n",
    "- Identify the promising transformations you may want to apply.\n",
    "- Identify extra data that would be useful (go back to “Get the Data” on page 498).\n",
    "- Document what you have learned.\n",
    "\n",
    "**4. Prepare the data to better expose the underlying data patterns to Machine Learning algorithms**\n",
    "- Work on copies of the data (keep the original dataset intact).\n",
    "\n",
    "- Write functions for all data transformations you apply, for five reasons:\n",
    "\n",
    "    * So you can easily prepare the data the next time you get a fresh dataset\n",
    "    \n",
    "    * So you can apply these transformations in future projects\n",
    "    \n",
    "    * To clean and prepare the test set\n",
    "    \n",
    "    * To clean and prepare new data instances once your solution is live\n",
    "    \n",
    "    * To make it easy to treat your preparation choices as hyperparameters\n",
    "\n",
    "- Data cleaning:\n",
    "\n",
    "    * Fix or remove outliers (optional).\n",
    "    \n",
    "    * Fill in missing values (e.g., with zero, mean, median...) or drop their rows (or columns).\n",
    "    \n",
    "- Feature selection (optional):\n",
    "\n",
    "    * Drop the attributes that provide no useful information for the task.\n",
    "\n",
    "- Feature engineering, where appropriate: \n",
    "\n",
    "    * Discretize continuous features.\n",
    "\n",
    "    * Decompose features (e.g., categorical, date/time, etc.).\n",
    "\n",
    "    * Add promising transformations of features (e.g., log(x), sqrt(x), x^2, etc.).\n",
    "\n",
    "    * Aggregate features into promising new features.\n",
    "    \n",
    "- Feature scaling: standardize or normalize features.\n",
    "\n",
    "**5. Explore many different models and short-list the best ones**\n",
    "\n",
    "**6. Fine-tune your models and combine them into a great solution**\n",
    "\n",
    "**7. Present your solution**\n",
    "\n",
    "**8. Launch, monitor, and maintain your system**"
   ]
  },
  {
   "cell_type": "code",
   "execution_count": 29,
   "metadata": {},
   "outputs": [],
   "source": [
    "import pandas as pd\n",
    "import numpy as np\n",
    "import matplotlib.pyplot as plt\n",
    "import seaborn as sns\n",
    "\n",
    "%matplotlib inline\n",
    "#%gui\n",
    "\n",
    "from sklearn.model_selection import train_test_split"
   ]
  },
  {
   "cell_type": "code",
   "execution_count": 2,
   "metadata": {},
   "outputs": [
    {
     "data": {
      "text/plain": [
       "'/Users/arunank/ML/Titanic'"
      ]
     },
     "execution_count": 2,
     "metadata": {},
     "output_type": "execute_result"
    }
   ],
   "source": [
    "import os\n",
    "os.getcwd()"
   ]
  },
  {
   "cell_type": "markdown",
   "metadata": {},
   "source": [
    "**Data Loading**"
   ]
  },
  {
   "cell_type": "code",
   "execution_count": 3,
   "metadata": {},
   "outputs": [],
   "source": [
    "train = pd.read_csv('train.csv')\n",
    "test = pd.read_csv('test.csv')"
   ]
  },
  {
   "cell_type": "markdown",
   "metadata": {},
   "source": [
    "**Data Overview**"
   ]
  },
  {
   "cell_type": "code",
   "execution_count": 4,
   "metadata": {},
   "outputs": [
    {
     "name": "stdout",
     "output_type": "stream",
     "text": [
      "<class 'pandas.core.frame.DataFrame'>\n",
      "RangeIndex: 891 entries, 0 to 890\n",
      "Data columns (total 12 columns):\n",
      "PassengerId    891 non-null int64\n",
      "Survived       891 non-null int64\n",
      "Pclass         891 non-null int64\n",
      "Name           891 non-null object\n",
      "Sex            891 non-null object\n",
      "Age            714 non-null float64\n",
      "SibSp          891 non-null int64\n",
      "Parch          891 non-null int64\n",
      "Ticket         891 non-null object\n",
      "Fare           891 non-null float64\n",
      "Cabin          204 non-null object\n",
      "Embarked       889 non-null object\n",
      "dtypes: float64(2), int64(5), object(5)\n",
      "memory usage: 83.6+ KB\n"
     ]
    }
   ],
   "source": [
    "train.info()"
   ]
  },
  {
   "cell_type": "code",
   "execution_count": 5,
   "metadata": {},
   "outputs": [
    {
     "data": {
      "text/plain": [
       "PassengerId      0\n",
       "Survived         0\n",
       "Pclass           0\n",
       "Name             0\n",
       "Sex              0\n",
       "Age            177\n",
       "SibSp            0\n",
       "Parch            0\n",
       "Ticket           0\n",
       "Fare             0\n",
       "Cabin          687\n",
       "Embarked         2\n",
       "dtype: int64"
      ]
     },
     "execution_count": 5,
     "metadata": {},
     "output_type": "execute_result"
    }
   ],
   "source": [
    "train.isnull().sum()"
   ]
  },
  {
   "cell_type": "code",
   "execution_count": 6,
   "metadata": {},
   "outputs": [
    {
     "data": {
      "text/html": [
       "<div>\n",
       "<style scoped>\n",
       "    .dataframe tbody tr th:only-of-type {\n",
       "        vertical-align: middle;\n",
       "    }\n",
       "\n",
       "    .dataframe tbody tr th {\n",
       "        vertical-align: top;\n",
       "    }\n",
       "\n",
       "    .dataframe thead th {\n",
       "        text-align: right;\n",
       "    }\n",
       "</style>\n",
       "<table border=\"1\" class=\"dataframe\">\n",
       "  <thead>\n",
       "    <tr style=\"text-align: right;\">\n",
       "      <th></th>\n",
       "      <th>PassengerId</th>\n",
       "      <th>Survived</th>\n",
       "      <th>Pclass</th>\n",
       "      <th>Name</th>\n",
       "      <th>Sex</th>\n",
       "      <th>Age</th>\n",
       "      <th>SibSp</th>\n",
       "      <th>Parch</th>\n",
       "      <th>Ticket</th>\n",
       "      <th>Fare</th>\n",
       "      <th>Cabin</th>\n",
       "      <th>Embarked</th>\n",
       "    </tr>\n",
       "  </thead>\n",
       "  <tbody>\n",
       "    <tr>\n",
       "      <th>0</th>\n",
       "      <td>1</td>\n",
       "      <td>0</td>\n",
       "      <td>3</td>\n",
       "      <td>Braund, Mr. Owen Harris</td>\n",
       "      <td>male</td>\n",
       "      <td>22.0</td>\n",
       "      <td>1</td>\n",
       "      <td>0</td>\n",
       "      <td>A/5 21171</td>\n",
       "      <td>7.2500</td>\n",
       "      <td>NaN</td>\n",
       "      <td>S</td>\n",
       "    </tr>\n",
       "    <tr>\n",
       "      <th>1</th>\n",
       "      <td>2</td>\n",
       "      <td>1</td>\n",
       "      <td>1</td>\n",
       "      <td>Cumings, Mrs. John Bradley (Florence Briggs Th...</td>\n",
       "      <td>female</td>\n",
       "      <td>38.0</td>\n",
       "      <td>1</td>\n",
       "      <td>0</td>\n",
       "      <td>PC 17599</td>\n",
       "      <td>71.2833</td>\n",
       "      <td>C85</td>\n",
       "      <td>C</td>\n",
       "    </tr>\n",
       "    <tr>\n",
       "      <th>2</th>\n",
       "      <td>3</td>\n",
       "      <td>1</td>\n",
       "      <td>3</td>\n",
       "      <td>Heikkinen, Miss. Laina</td>\n",
       "      <td>female</td>\n",
       "      <td>26.0</td>\n",
       "      <td>0</td>\n",
       "      <td>0</td>\n",
       "      <td>STON/O2. 3101282</td>\n",
       "      <td>7.9250</td>\n",
       "      <td>NaN</td>\n",
       "      <td>S</td>\n",
       "    </tr>\n",
       "    <tr>\n",
       "      <th>3</th>\n",
       "      <td>4</td>\n",
       "      <td>1</td>\n",
       "      <td>1</td>\n",
       "      <td>Futrelle, Mrs. Jacques Heath (Lily May Peel)</td>\n",
       "      <td>female</td>\n",
       "      <td>35.0</td>\n",
       "      <td>1</td>\n",
       "      <td>0</td>\n",
       "      <td>113803</td>\n",
       "      <td>53.1000</td>\n",
       "      <td>C123</td>\n",
       "      <td>S</td>\n",
       "    </tr>\n",
       "    <tr>\n",
       "      <th>4</th>\n",
       "      <td>5</td>\n",
       "      <td>0</td>\n",
       "      <td>3</td>\n",
       "      <td>Allen, Mr. William Henry</td>\n",
       "      <td>male</td>\n",
       "      <td>35.0</td>\n",
       "      <td>0</td>\n",
       "      <td>0</td>\n",
       "      <td>373450</td>\n",
       "      <td>8.0500</td>\n",
       "      <td>NaN</td>\n",
       "      <td>S</td>\n",
       "    </tr>\n",
       "  </tbody>\n",
       "</table>\n",
       "</div>"
      ],
      "text/plain": [
       "   PassengerId  Survived  Pclass  \\\n",
       "0            1         0       3   \n",
       "1            2         1       1   \n",
       "2            3         1       3   \n",
       "3            4         1       1   \n",
       "4            5         0       3   \n",
       "\n",
       "                                                Name     Sex   Age  SibSp  \\\n",
       "0                            Braund, Mr. Owen Harris    male  22.0      1   \n",
       "1  Cumings, Mrs. John Bradley (Florence Briggs Th...  female  38.0      1   \n",
       "2                             Heikkinen, Miss. Laina  female  26.0      0   \n",
       "3       Futrelle, Mrs. Jacques Heath (Lily May Peel)  female  35.0      1   \n",
       "4                           Allen, Mr. William Henry    male  35.0      0   \n",
       "\n",
       "   Parch            Ticket     Fare Cabin Embarked  \n",
       "0      0         A/5 21171   7.2500   NaN        S  \n",
       "1      0          PC 17599  71.2833   C85        C  \n",
       "2      0  STON/O2. 3101282   7.9250   NaN        S  \n",
       "3      0            113803  53.1000  C123        S  \n",
       "4      0            373450   8.0500   NaN        S  "
      ]
     },
     "execution_count": 6,
     "metadata": {},
     "output_type": "execute_result"
    }
   ],
   "source": [
    "train.head()"
   ]
  },
  {
   "cell_type": "code",
   "execution_count": 7,
   "metadata": {},
   "outputs": [
    {
     "name": "stdout",
     "output_type": "stream",
     "text": [
      "<class 'pandas.core.frame.DataFrame'>\n",
      "RangeIndex: 418 entries, 0 to 417\n",
      "Data columns (total 11 columns):\n",
      "PassengerId    418 non-null int64\n",
      "Pclass         418 non-null int64\n",
      "Name           418 non-null object\n",
      "Sex            418 non-null object\n",
      "Age            332 non-null float64\n",
      "SibSp          418 non-null int64\n",
      "Parch          418 non-null int64\n",
      "Ticket         418 non-null object\n",
      "Fare           417 non-null float64\n",
      "Cabin          91 non-null object\n",
      "Embarked       418 non-null object\n",
      "dtypes: float64(2), int64(4), object(5)\n",
      "memory usage: 36.0+ KB\n"
     ]
    }
   ],
   "source": [
    "test.info()"
   ]
  },
  {
   "cell_type": "code",
   "execution_count": 8,
   "metadata": {},
   "outputs": [
    {
     "data": {
      "text/plain": [
       "PassengerId      0\n",
       "Pclass           0\n",
       "Name             0\n",
       "Sex              0\n",
       "Age             86\n",
       "SibSp            0\n",
       "Parch            0\n",
       "Ticket           0\n",
       "Fare             1\n",
       "Cabin          327\n",
       "Embarked         0\n",
       "dtype: int64"
      ]
     },
     "execution_count": 8,
     "metadata": {},
     "output_type": "execute_result"
    }
   ],
   "source": [
    "test.isnull().sum()"
   ]
  },
  {
   "cell_type": "code",
   "execution_count": null,
   "metadata": {},
   "outputs": [],
   "source": []
  },
  {
   "cell_type": "markdown",
   "metadata": {},
   "source": [
    "**I) Exploring PassengerId**\n",
    "1. Check if number all PassengerIds are unique\n",
    "2. Checklist:\n",
    "    - Name: PassengerId\n",
    "\n",
    "    - Type (categorical, int/float, bounded/unbounded, text, structured, etc.): Categorical/Index\n",
    "\n",
    "    - % of missing values: 0\n",
    "\n",
    "    - Noisiness and type of noise (stochastic, outliers, rounding errors, etc.): No\n",
    "\n",
    "    - Possibly useful for the task?: Yes. Unique identifier for a passenger"
   ]
  },
  {
   "cell_type": "code",
   "execution_count": 9,
   "metadata": {},
   "outputs": [
    {
     "name": "stdout",
     "output_type": "stream",
     "text": [
      "Shape of train dataset is: Rows 891, Columns 12\n",
      "Number of unique PassengerIds is: 891\n"
     ]
    }
   ],
   "source": [
    "# Shape of train: (Rows, Columns)\n",
    "print(\"Shape of train dataset is: Rows %s, Columns %s\" %(train.shape))\n",
    "# R Command: len(unique(x))\n",
    "print(\"Number of unique PassengerIds is: %s\" %(len(train['PassengerId'].unique())))\n",
    "\n",
    "# Since, number of rows and number of unique PassengerIds are the same, it means there are no duplicates."
   ]
  },
  {
   "cell_type": "markdown",
   "metadata": {},
   "source": [
    "**II) Survived**:\n",
    "1. Checklist:\n",
    "    - Name: Survived\n",
    "\n",
    "    - Type (categorical, int/float, bounded/unbounded, text, structured, etc.): Categorical, Binary, Survived: 1, Did not survive: 0\n",
    "\n",
    "    - % of missing values: 0\n",
    "\n",
    "    - Noisiness and type of noise (stochastic, outliers, rounding errors, etc.): No\n",
    "\n",
    "    - Possibly useful for the task?: Yes. It is the label/output."
   ]
  },
  {
   "cell_type": "code",
   "execution_count": 10,
   "metadata": {},
   "outputs": [
    {
     "name": "stdout",
     "output_type": "stream",
     "text": [
      "0    549\n",
      "1    342\n",
      "Name: Survived, dtype: int64\n",
      "0    0.616162\n",
      "1    0.383838\n",
      "Name: Survived, dtype: float64\n"
     ]
    }
   ],
   "source": [
    "# value_counts() : Equivalent R Command: table()\n",
    "print(train['Survived'].value_counts())\n",
    "print(train['Survived'].value_counts(normalize=True))\n",
    "\n",
    "# 61% or 549 out of 891 dies. 38% or 342 out of 891 survived.\n",
    "# based on this, survival rate is 38%."
   ]
  },
  {
   "cell_type": "code",
   "execution_count": 11,
   "metadata": {},
   "outputs": [
    {
     "data": {
      "text/plain": [
       "Index([u'PassengerId', u'Survived', u'Pclass', u'Name', u'Sex', u'Age',\n",
       "       u'SibSp', u'Parch', u'Ticket', u'Fare', u'Cabin', u'Embarked'],\n",
       "      dtype='object')"
      ]
     },
     "execution_count": 11,
     "metadata": {},
     "output_type": "execute_result"
    }
   ],
   "source": [
    "# R Command: colnames()\n",
    "train.columns"
   ]
  },
  {
   "cell_type": "markdown",
   "metadata": {},
   "source": [
    "**III) Pclass**\n",
    "1. Checklist:\n",
    "    - Name: Pclass\n",
    "\n",
    "    - Type (categorical, int/float, bounded/unbounded, text, structured, etc.): Categorical with 3 levels: 1,2,3\n",
    "\n",
    "    - % of missing values: 0\n",
    "\n",
    "    - Noisiness and type of noise (stochastic, outliers, rounding errors, etc.): No\n",
    "\n",
    "    - Possibly useful for the task?: Yes. Passengers of different Pclass have different survival rates."
   ]
  },
  {
   "cell_type": "code",
   "execution_count": 12,
   "metadata": {},
   "outputs": [
    {
     "name": "stdout",
     "output_type": "stream",
     "text": [
      "NAs in Pclass: 0\n",
      "Pclass  Survived\n",
      "1       1           136\n",
      "        0            80\n",
      "2       0            97\n",
      "        1            87\n",
      "3       0           372\n",
      "        1           119\n",
      "Name: Survived, dtype: int64\n",
      "Pclass  Survived\n",
      "1       1           0.629630\n",
      "        0           0.370370\n",
      "2       0           0.527174\n",
      "        1           0.472826\n",
      "3       0           0.757637\n",
      "        1           0.242363\n",
      "Name: Survived, dtype: float64\n"
     ]
    }
   ],
   "source": [
    "print('NAs in Pclass: %s' %(train['Pclass'].isnull().sum()))\n",
    "print(train.groupby('Pclass')['Survived'].value_counts())\n",
    "print((train.groupby('Pclass')['Survived'].value_counts(normalize=True)))\n",
    "\n",
    "# Pclass 1 has highest survival rate at 62.96%."
   ]
  },
  {
   "cell_type": "markdown",
   "metadata": {},
   "source": [
    "**IV) Name**\n",
    "1. Checklist:\n",
    "    - Name: Name\n",
    "\n",
    "    - Type (categorical, int/float, bounded/unbounded, text, structured, etc.): String, May be used as an identifier\n",
    "\n",
    "    - % of missing values: 0\n",
    "\n",
    "    - Noisiness and type of noise (stochastic, outliers, rounding errors, etc.): White spaces, Non-ASCII\n",
    "\n",
    "    - Possibly useful for the task?: Yes. Title (Mr, Miss, Mrs, Master etc) can be extracted for additional information such as social status which may be correlated to higher survival rates."
   ]
  },
  {
   "cell_type": "code",
   "execution_count": 13,
   "metadata": {},
   "outputs": [
    {
     "name": "stdout",
     "output_type": "stream",
     "text": [
      "NAs in Name: 0\n",
      "0                                Braund, Mr. Owen Harris\n",
      "1      Cumings, Mrs. John Bradley (Florence Briggs Th...\n",
      "2                                 Heikkinen, Miss. Laina\n",
      "3           Futrelle, Mrs. Jacques Heath (Lily May Peel)\n",
      "4                               Allen, Mr. William Henry\n",
      "5                                       Moran, Mr. James\n",
      "6                                McCarthy, Mr. Timothy J\n",
      "7                         Palsson, Master. Gosta Leonard\n",
      "8      Johnson, Mrs. Oscar W (Elisabeth Vilhelmina Berg)\n",
      "9                    Nasser, Mrs. Nicholas (Adele Achem)\n",
      "10                       Sandstrom, Miss. Marguerite Rut\n",
      "11                              Bonnell, Miss. Elizabeth\n",
      "12                        Saundercock, Mr. William Henry\n",
      "13                           Andersson, Mr. Anders Johan\n",
      "14                  Vestrom, Miss. Hulda Amanda Adolfina\n",
      "15                      Hewlett, Mrs. (Mary D Kingcome) \n",
      "16                                  Rice, Master. Eugene\n",
      "17                          Williams, Mr. Charles Eugene\n",
      "18     Vander Planke, Mrs. Julius (Emelia Maria Vande...\n",
      "19                               Masselmani, Mrs. Fatima\n",
      "20                                  Fynney, Mr. Joseph J\n",
      "21                                 Beesley, Mr. Lawrence\n",
      "22                           McGowan, Miss. Anna \"Annie\"\n",
      "23                          Sloper, Mr. William Thompson\n",
      "24                         Palsson, Miss. Torborg Danira\n",
      "25     Asplund, Mrs. Carl Oscar (Selma Augusta Emilia...\n",
      "26                               Emir, Mr. Farred Chehab\n",
      "27                        Fortune, Mr. Charles Alexander\n",
      "28                         O'Dwyer, Miss. Ellen \"Nellie\"\n",
      "29                                   Todoroff, Mr. Lalio\n",
      "                             ...                        \n",
      "861                          Giles, Mr. Frederick Edward\n",
      "862    Swift, Mrs. Frederick Joel (Margaret Welles Ba...\n",
      "863                    Sage, Miss. Dorothy Edith \"Dolly\"\n",
      "864                               Gill, Mr. John William\n",
      "865                             Bystrom, Mrs. (Karolina)\n",
      "866                         Duran y More, Miss. Asuncion\n",
      "867                 Roebling, Mr. Washington Augustus II\n",
      "868                          van Melkebeke, Mr. Philemon\n",
      "869                      Johnson, Master. Harold Theodor\n",
      "870                                    Balkic, Mr. Cerin\n",
      "871     Beckwith, Mrs. Richard Leonard (Sallie Monypeny)\n",
      "872                             Carlsson, Mr. Frans Olof\n",
      "873                          Vander Cruyssen, Mr. Victor\n",
      "874                Abelson, Mrs. Samuel (Hannah Wizosky)\n",
      "875                     Najib, Miss. Adele Kiamie \"Jane\"\n",
      "876                        Gustafsson, Mr. Alfred Ossian\n",
      "877                                 Petroff, Mr. Nedelio\n",
      "878                                   Laleff, Mr. Kristo\n",
      "879        Potter, Mrs. Thomas Jr (Lily Alexenia Wilson)\n",
      "880         Shelley, Mrs. William (Imanita Parrish Hall)\n",
      "881                                   Markun, Mr. Johann\n",
      "882                         Dahlberg, Miss. Gerda Ulrika\n",
      "883                        Banfield, Mr. Frederick James\n",
      "884                               Sutehall, Mr. Henry Jr\n",
      "885                 Rice, Mrs. William (Margaret Norton)\n",
      "886                                Montvila, Rev. Juozas\n",
      "887                         Graham, Miss. Margaret Edith\n",
      "888             Johnston, Miss. Catherine Helen \"Carrie\"\n",
      "889                                Behr, Mr. Karl Howell\n",
      "890                                  Dooley, Mr. Patrick\n",
      "Name: Name, Length: 891, dtype: object\n"
     ]
    }
   ],
   "source": [
    "print('NAs in Name: %s' %(train['Name'].isnull().sum()))\n",
    "print(train['Name'])\n",
    "# This will be explored further later."
   ]
  },
  {
   "cell_type": "markdown",
   "metadata": {},
   "source": [
    "**V) Sex**\n",
    "1. Checklist:\n",
    "\n",
    "    - Name: Sex\n",
    "\n",
    "    - Type (categorical, int/float, bounded/unbounded, text, structured, etc.): String as of now (male, female), Needs to be converted into Categorical with 2 levels: Male - 0, Female - 1\n",
    "\n",
    "    - % of missing values: 0\n",
    "\n",
    "    - Noisiness and type of noise (stochastic, outliers, rounding errors, etc.): No\n",
    "\n",
    "    - Possibly useful for the task?: Yes. Females have significanlty higher survival rates overall."
   ]
  },
  {
   "cell_type": "code",
   "execution_count": 14,
   "metadata": {
    "scrolled": true
   },
   "outputs": [
    {
     "name": "stdout",
     "output_type": "stream",
     "text": [
      "NAs in Sex: 0\n",
      "male      577\n",
      "female    314\n",
      "Name: Sex, dtype: int64\n",
      "Sex     Survived\n",
      "female  1           233\n",
      "        0            81\n",
      "male    0           468\n",
      "        1           109\n",
      "Name: Survived, dtype: int64\n",
      "Sex     Survived\n",
      "female  1           0.742038\n",
      "        0           0.257962\n",
      "male    0           0.811092\n",
      "        1           0.188908\n",
      "Name: Survived, dtype: float64\n"
     ]
    }
   ],
   "source": [
    "print('NAs in Sex: %s' %(train['Sex'].isnull().sum()))\n",
    "print(train['Sex'].value_counts())\n",
    "print(train.groupby('Sex')['Survived'].value_counts())\n",
    "print(train.groupby('Sex')['Survived'].value_counts(normalize=True))\n",
    "\n",
    "# There are lesser number of females overall but their survival rate is higher.\n",
    "# Analysis of survival of females by Pclass is performed as below."
   ]
  },
  {
   "cell_type": "markdown",
   "metadata": {},
   "source": [
    "**VI) Pclass and Sex**\n",
    "1. Checklist:\n",
    "\n",
    "    - Name: Pclass and Sex\n",
    "\n",
    "    - Type (categorical, int/float, bounded/unbounded, text, structured, etc.): Categorical\n",
    "\n",
    "    - % of missing values: 0\n",
    "\n",
    "    - Noisiness and type of noise (stochastic, outliers, rounding errors, etc.): No\n",
    "\n",
    "    - Possibly useful for the task?: Yes. Females have significanlty higher survival rates overall in Pclass 1 and Pclass 2."
   ]
  },
  {
   "cell_type": "code",
   "execution_count": 15,
   "metadata": {},
   "outputs": [
    {
     "name": "stdout",
     "output_type": "stream",
     "text": [
      "male      577\n",
      "female    314\n",
      "Name: Sex, dtype: int64\n",
      "Pclass  Sex     Survived\n",
      "1       female  1            91\n",
      "                0             3\n",
      "        male    0            77\n",
      "                1            45\n",
      "2       female  1            70\n",
      "                0             6\n",
      "        male    0            91\n",
      "                1            17\n",
      "3       female  0            72\n",
      "                1            72\n",
      "        male    0           300\n",
      "                1            47\n",
      "Name: Survived, dtype: int64\n",
      "Pclass  Sex     Survived\n",
      "1       female  1           0.968085\n",
      "                0           0.031915\n",
      "        male    0           0.631148\n",
      "                1           0.368852\n",
      "2       female  1           0.921053\n",
      "                0           0.078947\n",
      "        male    0           0.842593\n",
      "                1           0.157407\n",
      "3       female  0           0.500000\n",
      "                1           0.500000\n",
      "        male    0           0.864553\n",
      "                1           0.135447\n",
      "Name: Survived, dtype: float64\n"
     ]
    }
   ],
   "source": [
    "print(train['Sex'].value_counts())\n",
    "print(train.groupby(['Pclass', 'Sex'])['Survived'].value_counts())\n",
    "print(train.groupby(['Pclass', 'Sex'])['Survived'].value_counts(normalize=True))\n",
    "# Pclass 1: 96.8% females have survived whereas only 63.1% males survived.\n",
    "# Pclass 2: 92.1% females have survived whereas 84.2% males have surived.\n",
    "# Pclass 3: 50% females have survived whereas 86.4% males have survived.\n",
    "# This clearly indicates that female with Pclass 1 and Pclass 2 have very high probability of survival.\n",
    "# This will be useful feature later."
   ]
  },
  {
   "cell_type": "markdown",
   "metadata": {},
   "source": [
    "**VII) Age**\n",
    "1. Checklist:\n",
    "\n",
    "    - Name: Age\n",
    "\n",
    "    - Type (categorical, int/float, bounded/unbounded, text, structured, etc.): Continuous, Float, Needs to be converted into Categorical with pd.cut i.e. into Age Bands (0-15, 15-30, 30-45, 45-60, 60-75, >75), Range is from 0.42 to 80.0.\n",
    "\n",
    "    - % of missing values: 177, Will need imputation as this is quite high.\n",
    "\n",
    "    - Noisiness and type of noise (stochastic, outliers, rounding errors, etc.): No outliers, NAs present in significant number.\n",
    "\n",
    "    - Possibly useful for the task?: Yes, maybe."
   ]
  },
  {
   "cell_type": "code",
   "execution_count": 16,
   "metadata": {},
   "outputs": [
    {
     "name": "stdout",
     "output_type": "stream",
     "text": [
      "NAs in Age: 177\n",
      "80.0\n"
     ]
    }
   ],
   "source": [
    "# Age is a continuous variable. It will be explored as part of data visualization.\n",
    "print(\"NAs in Age: %s\" %(train['Age'].isnull().sum()))\n",
    "#print(np.nanmedian(train['Age']))\n",
    "print(max(train['Age']))"
   ]
  },
  {
   "cell_type": "markdown",
   "metadata": {},
   "source": [
    "**VIII) SibSp and Parch**\n",
    "1. Checklist:\n",
    "\n",
    "    - Name: SibSp, Parch\n",
    "\n",
    "    - Type (categorical, int/float, bounded/unbounded, text, structured, etc.): Integer/Number, Can be considered Categorical\n",
    "\n",
    "    - % of missing values: 0, 0\n",
    "\n",
    "    - Noisiness and type of noise (stochastic, outliers, rounding errors, etc.): \n",
    "\n",
    "    - Possibly useful for the task?: Yes, maybe."
   ]
  },
  {
   "cell_type": "code",
   "execution_count": 17,
   "metadata": {},
   "outputs": [
    {
     "name": "stdout",
     "output_type": "stream",
     "text": [
      "NAs in SibSp: 0\n",
      "NAs in Parch: 0\n",
      "0    608\n",
      "1    209\n",
      "2     28\n",
      "4     18\n",
      "3     16\n",
      "8      7\n",
      "5      5\n",
      "Name: SibSp, dtype: int64\n",
      "SibSp  Survived\n",
      "0      0           398\n",
      "       1           210\n",
      "1      1           112\n",
      "       0            97\n",
      "2      0            15\n",
      "       1            13\n",
      "3      0            12\n",
      "       1             4\n",
      "4      0            15\n",
      "       1             3\n",
      "5      0             5\n",
      "8      0             7\n",
      "Name: Survived, dtype: int64\n",
      "SibSp  Survived\n",
      "0      0           0.654605\n",
      "       1           0.345395\n",
      "1      1           0.535885\n",
      "       0           0.464115\n",
      "2      0           0.535714\n",
      "       1           0.464286\n",
      "3      0           0.750000\n",
      "       1           0.250000\n",
      "4      0           0.833333\n",
      "       1           0.166667\n",
      "5      0           1.000000\n",
      "8      0           1.000000\n",
      "Name: Survived, dtype: float64\n",
      "SibSp  Sex     Survived\n",
      "0      female  1           137\n",
      "               0            37\n",
      "       male    0           361\n",
      "               1            73\n",
      "1      female  1            80\n",
      "               0            26\n",
      "       male    0            71\n",
      "               1            32\n",
      "2      female  1            10\n",
      "               0             3\n",
      "       male    0            12\n",
      "               1             3\n",
      "3      female  0             7\n",
      "               1             4\n",
      "       male    0             5\n",
      "4      female  0             4\n",
      "               1             2\n",
      "       male    0            11\n",
      "               1             1\n",
      "5      female  0             1\n",
      "       male    0             4\n",
      "8      female  0             3\n",
      "       male    0             4\n",
      "Name: Survived, dtype: int64\n",
      "SibSp  Sex     Survived\n",
      "0      female  1           0.787356\n",
      "               0           0.212644\n",
      "       male    0           0.831797\n",
      "               1           0.168203\n",
      "1      female  1           0.754717\n",
      "               0           0.245283\n",
      "       male    0           0.689320\n",
      "               1           0.310680\n",
      "2      female  1           0.769231\n",
      "               0           0.230769\n",
      "       male    0           0.800000\n",
      "               1           0.200000\n",
      "3      female  0           0.636364\n",
      "               1           0.363636\n",
      "       male    0           1.000000\n",
      "4      female  0           0.666667\n",
      "               1           0.333333\n",
      "       male    0           0.916667\n",
      "               1           0.083333\n",
      "5      female  0           1.000000\n",
      "       male    0           1.000000\n",
      "8      female  0           1.000000\n",
      "       male    0           1.000000\n",
      "Name: Survived, dtype: float64\n"
     ]
    }
   ],
   "source": [
    "print(\"NAs in SibSp: %s\" %(train['SibSp'].isnull().sum()))\n",
    "print(\"NAs in Parch: %s\" %(train['Parch'].isnull().sum()))\n",
    "print(train['SibSp'].value_counts())\n",
    "print(train.groupby('SibSp')['Survived'].value_counts())\n",
    "print(train.groupby('SibSp')['Survived'].value_counts(normalize=True))\n",
    "print(train.groupby(['SibSp','Sex'])['Survived'].value_counts())\n",
    "print(train.groupby(['SibSp','Sex'])['Survived'].value_counts(normalize=True))\n",
    "# Overall, if you have 1 sibling/spouse, you have highest chance of survival.\n",
    "# If you are a female with 0,1,2 sibling/spouse, you have more than 70% chance of survival."
   ]
  },
  {
   "cell_type": "code",
   "execution_count": 18,
   "metadata": {},
   "outputs": [
    {
     "name": "stdout",
     "output_type": "stream",
     "text": [
      "Parch  Survived\n",
      "0      0           445\n",
      "       1           233\n",
      "1      1            65\n",
      "       0            53\n",
      "2      0            40\n",
      "       1            40\n",
      "3      1             3\n",
      "       0             2\n",
      "4      0             4\n",
      "5      0             4\n",
      "       1             1\n",
      "6      0             1\n",
      "Name: Survived, dtype: int64\n",
      "Parch  Survived\n",
      "0      0           0.656342\n",
      "       1           0.343658\n",
      "1      1           0.550847\n",
      "       0           0.449153\n",
      "2      0           0.500000\n",
      "       1           0.500000\n",
      "3      1           0.600000\n",
      "       0           0.400000\n",
      "4      0           1.000000\n",
      "5      0           0.800000\n",
      "       1           0.200000\n",
      "6      0           1.000000\n",
      "Name: Survived, dtype: float64\n"
     ]
    }
   ],
   "source": [
    "# Parch\n",
    "print(train.groupby('Parch')['Survived'].value_counts())\n",
    "print(train.groupby('Parch')['Survived'].value_counts(normalize=True))\n",
    "\n",
    "#SibSp and Parch can be added/combined to form a single column of family."
   ]
  },
  {
   "cell_type": "markdown",
   "metadata": {},
   "source": [
    "**IX) Ticket**\n",
    "1. Checklist:\n",
    "\n",
    "    - Name: Ticket\n",
    "\n",
    "    - Type (categorical, int/float, bounded/unbounded, text, structured, etc.): Integer/Number, Can be considered Categorical\n",
    "\n",
    "    - % of missing values: 0, 0\n",
    "\n",
    "    - Noisiness and type of noise (stochastic, outliers, rounding errors, etc.): \n",
    "\n",
    "    - Possibly useful for the task?: No"
   ]
  },
  {
   "cell_type": "code",
   "execution_count": 19,
   "metadata": {},
   "outputs": [
    {
     "name": "stdout",
     "output_type": "stream",
     "text": [
      "0\n",
      "               Ticket  Pclass  Survived\n",
      "0           A/5 21171       3         0\n",
      "1            PC 17599       1         1\n",
      "2    STON/O2. 3101282       3         1\n",
      "3              113803       1         1\n",
      "4              373450       3         0\n",
      "5              330877       3         0\n",
      "6               17463       1         0\n",
      "7              349909       3         0\n",
      "8              347742       3         1\n",
      "9              237736       2         1\n",
      "10            PP 9549       3         1\n",
      "11             113783       1         1\n",
      "12          A/5. 2151       3         0\n",
      "13             347082       3         0\n",
      "14             350406       3         0\n",
      "15             248706       2         1\n",
      "16             382652       3         0\n",
      "17             244373       2         1\n",
      "18             345763       3         0\n",
      "19               2649       3         1\n",
      "20             239865       2         0\n",
      "21             248698       2         1\n",
      "22             330923       3         1\n",
      "23             113788       1         1\n",
      "24             349909       3         0\n",
      "25             347077       3         1\n",
      "26               2631       3         0\n",
      "27              19950       1         0\n",
      "28             330959       3         1\n",
      "29             349216       3         0\n",
      "..                ...     ...       ...\n",
      "861             28134       2         0\n",
      "862             17466       1         1\n",
      "863          CA. 2343       3         0\n",
      "864            233866       2         0\n",
      "865            236852       2         1\n",
      "866     SC/PARIS 2149       2         1\n",
      "867          PC 17590       1         0\n",
      "868            345777       3         0\n",
      "869            347742       3         1\n",
      "870            349248       3         0\n",
      "871             11751       1         1\n",
      "872               695       1         0\n",
      "873            345765       3         0\n",
      "874         P/PP 3381       2         1\n",
      "875              2667       3         1\n",
      "876              7534       3         0\n",
      "877            349212       3         0\n",
      "878            349217       3         0\n",
      "879             11767       1         1\n",
      "880            230433       2         1\n",
      "881            349257       3         0\n",
      "882              7552       3         0\n",
      "883  C.A./SOTON 34068       2         0\n",
      "884   SOTON/OQ 392076       3         0\n",
      "885            382652       3         0\n",
      "886            211536       2         0\n",
      "887            112053       1         1\n",
      "888        W./C. 6607       3         0\n",
      "889            111369       1         1\n",
      "890            370376       3         0\n",
      "\n",
      "[891 rows x 3 columns]\n"
     ]
    }
   ],
   "source": [
    "print(train['Ticket'].isnull().sum()) # No NA present\n",
    "print(train[['Ticket', 'Pclass','Survived']])\n",
    "# Ticket number does not appear to be providing any significant information and will be dropped."
   ]
  },
  {
   "cell_type": "markdown",
   "metadata": {},
   "source": [
    "**X) Fare**\n",
    "1. Checklist:\n",
    "\n",
    "    - Name: Fare\n",
    "\n",
    "    - Type (categorical, int/float, bounded/unbounded, text, structured, etc.): Float, Continuous, Needs to be converted into categorical or Fare Bands\n",
    "\n",
    "    - % of missing values: 0\n",
    "\n",
    "    - Noisiness and type of noise (stochastic, outliers, rounding errors, etc.): \n",
    "\n",
    "    - Possibly useful for the task?: Yes, maybe. Correlation with Pclass needs to be studied."
   ]
  },
  {
   "cell_type": "code",
   "execution_count": 20,
   "metadata": {},
   "outputs": [
    {
     "name": "stdout",
     "output_type": "stream",
     "text": [
      "NAs in Fare: 0\n",
      "         Fare  Pclass  Survived\n",
      "0      7.2500       3         0\n",
      "1     71.2833       1         1\n",
      "2      7.9250       3         1\n",
      "3     53.1000       1         1\n",
      "4      8.0500       3         0\n",
      "5      8.4583       3         0\n",
      "6     51.8625       1         0\n",
      "7     21.0750       3         0\n",
      "8     11.1333       3         1\n",
      "9     30.0708       2         1\n",
      "10    16.7000       3         1\n",
      "11    26.5500       1         1\n",
      "12     8.0500       3         0\n",
      "13    31.2750       3         0\n",
      "14     7.8542       3         0\n",
      "15    16.0000       2         1\n",
      "16    29.1250       3         0\n",
      "17    13.0000       2         1\n",
      "18    18.0000       3         0\n",
      "19     7.2250       3         1\n",
      "20    26.0000       2         0\n",
      "21    13.0000       2         1\n",
      "22     8.0292       3         1\n",
      "23    35.5000       1         1\n",
      "24    21.0750       3         0\n",
      "25    31.3875       3         1\n",
      "26     7.2250       3         0\n",
      "27   263.0000       1         0\n",
      "28     7.8792       3         1\n",
      "29     7.8958       3         0\n",
      "..        ...     ...       ...\n",
      "861   11.5000       2         0\n",
      "862   25.9292       1         1\n",
      "863   69.5500       3         0\n",
      "864   13.0000       2         0\n",
      "865   13.0000       2         1\n",
      "866   13.8583       2         1\n",
      "867   50.4958       1         0\n",
      "868    9.5000       3         0\n",
      "869   11.1333       3         1\n",
      "870    7.8958       3         0\n",
      "871   52.5542       1         1\n",
      "872    5.0000       1         0\n",
      "873    9.0000       3         0\n",
      "874   24.0000       2         1\n",
      "875    7.2250       3         1\n",
      "876    9.8458       3         0\n",
      "877    7.8958       3         0\n",
      "878    7.8958       3         0\n",
      "879   83.1583       1         1\n",
      "880   26.0000       2         1\n",
      "881    7.8958       3         0\n",
      "882   10.5167       3         0\n",
      "883   10.5000       2         0\n",
      "884    7.0500       3         0\n",
      "885   29.1250       3         0\n",
      "886   13.0000       2         0\n",
      "887   30.0000       1         1\n",
      "888   23.4500       3         0\n",
      "889   30.0000       1         1\n",
      "890    7.7500       3         0\n",
      "\n",
      "[891 rows x 3 columns]\n"
     ]
    }
   ],
   "source": [
    "print('NAs in Fare: %s' %(train['Fare'].isnull().sum()))\n",
    "print(train[['Fare', 'Pclass', 'Survived']])\n",
    "# Further exploration as part of data visualization where correlation with Pclass will also be determined."
   ]
  },
  {
   "cell_type": "markdown",
   "metadata": {},
   "source": [
    "**XI) Cabin**\n",
    "1. Checklist:\n",
    "\n",
    "    - Name: Cabin\n",
    "\n",
    "    - Type (categorical, int/float, bounded/unbounded, text, structured, etc.): Integer/Number, Can be considered Categorical\n",
    "\n",
    "    - % of missing values: 687\n",
    "\n",
    "    - Noisiness and type of noise (stochastic, outliers, rounding errors, etc.): \n",
    "\n",
    "    - Possibly useful for the task?: No. Needs to be dropped."
   ]
  },
  {
   "cell_type": "code",
   "execution_count": 21,
   "metadata": {},
   "outputs": [
    {
     "name": "stdout",
     "output_type": "stream",
     "text": [
      "687\n",
      "0              NaN\n",
      "1              C85\n",
      "2              NaN\n",
      "3             C123\n",
      "4              NaN\n",
      "5              NaN\n",
      "6              E46\n",
      "7              NaN\n",
      "8              NaN\n",
      "9              NaN\n",
      "10              G6\n",
      "11            C103\n",
      "12             NaN\n",
      "13             NaN\n",
      "14             NaN\n",
      "15             NaN\n",
      "16             NaN\n",
      "17             NaN\n",
      "18             NaN\n",
      "19             NaN\n",
      "20             NaN\n",
      "21             D56\n",
      "22             NaN\n",
      "23              A6\n",
      "24             NaN\n",
      "25             NaN\n",
      "26             NaN\n",
      "27     C23 C25 C27\n",
      "28             NaN\n",
      "29             NaN\n",
      "          ...     \n",
      "861            NaN\n",
      "862            D17\n",
      "863            NaN\n",
      "864            NaN\n",
      "865            NaN\n",
      "866            NaN\n",
      "867            A24\n",
      "868            NaN\n",
      "869            NaN\n",
      "870            NaN\n",
      "871            D35\n",
      "872    B51 B53 B55\n",
      "873            NaN\n",
      "874            NaN\n",
      "875            NaN\n",
      "876            NaN\n",
      "877            NaN\n",
      "878            NaN\n",
      "879            C50\n",
      "880            NaN\n",
      "881            NaN\n",
      "882            NaN\n",
      "883            NaN\n",
      "884            NaN\n",
      "885            NaN\n",
      "886            NaN\n",
      "887            B42\n",
      "888            NaN\n",
      "889           C148\n",
      "890            NaN\n",
      "Name: Cabin, Length: 891, dtype: object\n"
     ]
    }
   ],
   "source": [
    "print(train['Cabin'].isnull().sum()) # 687 NAs out of 891 rows => Will be dropped\n",
    "print(train['Cabin'])"
   ]
  },
  {
   "cell_type": "markdown",
   "metadata": {},
   "source": [
    "**XI) Embarked**\n",
    "1. Checklist:\n",
    "\n",
    "    - Name: Embarked\n",
    "\n",
    "    - Type (categorical, int/float, bounded/unbounded, text, structured, etc.): Categorical with 3 levels (C,Q,S)\n",
    "\n",
    "    - % of missing values: 2\n",
    "\n",
    "    - Noisiness and type of noise (stochastic, outliers, rounding errors, etc.): NA\n",
    "\n",
    "    - Possibly useful for the task?: Yes, maybe."
   ]
  },
  {
   "cell_type": "code",
   "execution_count": 22,
   "metadata": {},
   "outputs": [
    {
     "name": "stdout",
     "output_type": "stream",
     "text": [
      "2\n",
      "Embarked  Survived\n",
      "C         1            93\n",
      "          0            75\n",
      "Q         0            47\n",
      "          1            30\n",
      "S         0           427\n",
      "          1           217\n",
      "Name: Survived, dtype: int64\n",
      "Embarked  Survived\n",
      "C         1           0.553571\n",
      "          0           0.446429\n",
      "Q         0           0.610390\n",
      "          1           0.389610\n",
      "S         0           0.663043\n",
      "          1           0.336957\n",
      "Name: Survived, dtype: float64\n",
      "Embarked  Pclass  Survived\n",
      "C         1       1            59\n",
      "                  0            26\n",
      "          2       1             9\n",
      "                  0             8\n",
      "          3       0            41\n",
      "                  1            25\n",
      "Q         1       0             1\n",
      "                  1             1\n",
      "          2       1             2\n",
      "                  0             1\n",
      "          3       0            45\n",
      "                  1            27\n",
      "S         1       1            74\n",
      "                  0            53\n",
      "          2       0            88\n",
      "                  1            76\n",
      "          3       0           286\n",
      "                  1            67\n",
      "Name: Survived, dtype: int64\n",
      "Embarked  Pclass  Survived\n",
      "C         1       1           0.694118\n",
      "                  0           0.305882\n",
      "          2       1           0.529412\n",
      "                  0           0.470588\n",
      "          3       0           0.621212\n",
      "                  1           0.378788\n",
      "Q         1       0           0.500000\n",
      "                  1           0.500000\n",
      "          2       1           0.666667\n",
      "                  0           0.333333\n",
      "          3       0           0.625000\n",
      "                  1           0.375000\n",
      "S         1       1           0.582677\n",
      "                  0           0.417323\n",
      "          2       0           0.536585\n",
      "                  1           0.463415\n",
      "          3       0           0.810198\n",
      "                  1           0.189802\n",
      "Name: Survived, dtype: float64\n",
      "    Embarked  Pclass  Survived\n",
      "0          S       3         0\n",
      "1          C       1         1\n",
      "2          S       3         1\n",
      "3          S       1         1\n",
      "4          S       3         0\n",
      "5          Q       3         0\n",
      "6          S       1         0\n",
      "7          S       3         0\n",
      "8          S       3         1\n",
      "9          C       2         1\n",
      "10         S       3         1\n",
      "11         S       1         1\n",
      "12         S       3         0\n",
      "13         S       3         0\n",
      "14         S       3         0\n",
      "15         S       2         1\n",
      "16         Q       3         0\n",
      "17         S       2         1\n",
      "18         S       3         0\n",
      "19         C       3         1\n",
      "20         S       2         0\n",
      "21         S       2         1\n",
      "22         Q       3         1\n",
      "23         S       1         1\n",
      "24         S       3         0\n",
      "25         S       3         1\n",
      "26         C       3         0\n",
      "27         S       1         0\n",
      "28         Q       3         1\n",
      "29         S       3         0\n",
      "..       ...     ...       ...\n",
      "861        S       2         0\n",
      "862        S       1         1\n",
      "863        S       3         0\n",
      "864        S       2         0\n",
      "865        S       2         1\n",
      "866        C       2         1\n",
      "867        S       1         0\n",
      "868        S       3         0\n",
      "869        S       3         1\n",
      "870        S       3         0\n",
      "871        S       1         1\n",
      "872        S       1         0\n",
      "873        S       3         0\n",
      "874        C       2         1\n",
      "875        C       3         1\n",
      "876        S       3         0\n",
      "877        S       3         0\n",
      "878        S       3         0\n",
      "879        C       1         1\n",
      "880        S       2         1\n",
      "881        S       3         0\n",
      "882        S       3         0\n",
      "883        S       2         0\n",
      "884        S       3         0\n",
      "885        Q       3         0\n",
      "886        S       2         0\n",
      "887        S       1         1\n",
      "888        S       3         0\n",
      "889        C       1         1\n",
      "890        Q       3         0\n",
      "\n",
      "[891 rows x 3 columns]\n"
     ]
    }
   ],
   "source": [
    "print(train['Embarked'].isnull().sum()) # 2 NAs\n",
    "print(train.groupby('Embarked')['Survived'].value_counts(normalize=False))\n",
    "print(train.groupby('Embarked')['Survived'].value_counts(normalize=True))\n",
    "print(train.groupby(['Embarked', 'Pclass'])['Survived'].value_counts(normalize=False))\n",
    "print(train.groupby(['Embarked', 'Pclass'])['Survived'].value_counts(normalize=True))\n",
    "print(train[['Embarked','Pclass','Survived']])\n",
    "# Most people embarked from S. Highest urvival: Embarked C and Pclass 1"
   ]
  },
  {
   "cell_type": "markdown",
   "metadata": {},
   "source": [
    "**Data Visualization**\n",
    "1. Distribution to decied upon feature engineering, feature scaling and transformation to be used.\n",
    "2. Correlation between attributes to decide upon feature selection"
   ]
  },
  {
   "cell_type": "markdown",
   "metadata": {},
   "source": []
  },
  {
   "cell_type": "code",
   "execution_count": 23,
   "metadata": {},
   "outputs": [
    {
     "data": {
      "text/plain": [
       "Index([u'PassengerId', u'Survived', u'Pclass', u'Name', u'Sex', u'Age',\n",
       "       u'SibSp', u'Parch', u'Ticket', u'Fare', u'Cabin', u'Embarked'],\n",
       "      dtype='object')"
      ]
     },
     "execution_count": 23,
     "metadata": {},
     "output_type": "execute_result"
    }
   ],
   "source": [
    "train.columns\n",
    "#[u'PassengerId', u'Survived', u'Pclass', u'Name', u'Sex', u'Age',\n",
    "#       u'SibSp', u'Parch', u'Ticket', u'Fare', u'Cabin', u'Embarked']"
   ]
  },
  {
   "cell_type": "markdown",
   "metadata": {},
   "source": [
    "**I) PassengerId**\n",
    "- It acts as the index and unique identifier. Visulization is not necessary."
   ]
  },
  {
   "cell_type": "markdown",
   "metadata": {},
   "source": [
    "**II) Survived**\n",
    "1. Overall Survival Rates: Barplot for levels 0 and 1\n",
    "2. Survival Rates by Sex: Barplot for male and female\n",
    "3. Survival Rates by Pclass: Barplot for 1,2,3\n",
    "4. Survival Rates by Sex for different Pclass: Barplot for male and female on Facet Grid with Pclass "
   ]
  },
  {
   "cell_type": "code",
   "execution_count": 31,
   "metadata": {},
   "outputs": [
    {
     "data": {
      "text/plain": [
       "<Figure size 432x288 with 0 Axes>"
      ]
     },
     "metadata": {},
     "output_type": "display_data"
    }
   ],
   "source": [
    "fig = plt.figure()"
   ]
  },
  {
   "cell_type": "code",
   "execution_count": 32,
   "metadata": {},
   "outputs": [],
   "source": [
    "fig1 = fig.add_subplot(2,2,1)\n",
    "fig2 = fig.add_subplot(2,2,2)\n",
    "fig3 = fig.add_subplot(2,2,3)"
   ]
  },
  {
   "cell_type": "code",
   "execution_count": 33,
   "metadata": {},
   "outputs": [
    {
     "data": {
      "text/plain": [
       "[<matplotlib.lines.Line2D at 0x1128363d0>]"
      ]
     },
     "execution_count": 33,
     "metadata": {},
     "output_type": "execute_result"
    },
    {
     "data": {
      "image/png": "[encoded data removed]",
      "text/plain": [
       "<Figure size 432x288 with 1 Axes>"
      ]
     },
     "metadata": {},
     "output_type": "display_data"
    }
   ],
   "source": [
    "plt.plot([1.5, 3.5, -2, 1.6])"
   ]
  },
  {
   "cell_type": "code",
   "execution_count": 34,
   "metadata": {},
   "outputs": [
    {
     "data": {
      "text/plain": [
       "(array([ 1.,  1.,  4.,  4.,  5.,  4.,  2., 11., 14., 12.,  9.,  6., 10.,\n",
       "         5.,  1.,  4.,  2.,  3.,  0.,  2.]),\n",
       " array([-2.08663788, -1.86561102, -1.64458416, -1.4235573 , -1.20253044,\n",
       "        -0.98150358, -0.76047672, -0.53944986, -0.318423  , -0.09739614,\n",
       "         0.12363072,  0.34465758,  0.56568444,  0.78671131,  1.00773817,\n",
       "         1.22876503,  1.44979189,  1.67081875,  1.89184561,  2.11287247,\n",
       "         2.33389933]),\n",
       " <a list of 20 Patch objects>)"
      ]
     },
     "execution_count": 34,
     "metadata": {},
     "output_type": "execute_result"
    }
   ],
   "source": [
    "plt.ion()\n",
    "fig1.hist(np.random.randn(100), bins=20, color='k', alpha=0.3)"
   ]
  },
  {
   "cell_type": "code",
   "execution_count": 35,
   "metadata": {},
   "outputs": [],
   "source": [
    "plt.show()"
   ]
  },
  {
   "cell_type": "code",
   "execution_count": null,
   "metadata": {},
   "outputs": [],
   "source": []
  },
  {
   "cell_type": "code",
   "execution_count": null,
   "metadata": {},
   "outputs": [],
   "source": []
  },
  {
   "cell_type": "code",
   "execution_count": null,
   "metadata": {},
   "outputs": [],
   "source": []
  },
  {
   "cell_type": "code",
   "execution_count": null,
   "metadata": {},
   "outputs": [],
   "source": []
  },
  {
   "cell_type": "code",
   "execution_count": null,
   "metadata": {},
   "outputs": [],
   "source": []
  },
  {
   "cell_type": "code",
   "execution_count": null,
   "metadata": {},
   "outputs": [],
   "source": []
  },
  {
   "cell_type": "code",
   "execution_count": null,
   "metadata": {},
   "outputs": [],
   "source": []
  },
  {
   "cell_type": "code",
   "execution_count": null,
   "metadata": {},
   "outputs": [],
   "source": []
  },
  {
   "cell_type": "code",
   "execution_count": null,
   "metadata": {},
   "outputs": [],
   "source": []
  },
  {
   "cell_type": "markdown",
   "metadata": {},
   "source": [
    "**XXXXXXXXXXXXXXXXXXXXXXXXX LATER XXXXXXXXXXXXXXXXXXXXXXXXXXXX**"
   ]
  },
  {
   "cell_type": "markdown",
   "metadata": {},
   "source": [
    "# Should be done much later. train and test need to be preprocessed first.\n",
    "**Creating X_train, X_test and y_train, y_test using train_test_split from sklearn**\n",
    "This split is made from the train dataset itself.\n",
    "The model is trained on X_train, y_train and tested on X_test and y_test.\n"
   ]
  },
  {
   "cell_type": "code",
   "execution_count": 29,
   "metadata": {},
   "outputs": [],
   "source": [
    "X_train, X_test, y_train, y_test = train_test_split(train.drop('Survived', axis=1),\n",
    "                                                    train['Survived'], test_size=0.20,\n",
    "                                                    random_state=42, shuffle=True)"
   ]
  },
  {
   "cell_type": "code",
   "execution_count": 33,
   "metadata": {},
   "outputs": [
    {
     "data": {
      "text/html": [
       "<div>\n",
       "<style scoped>\n",
       "    .dataframe tbody tr th:only-of-type {\n",
       "        vertical-align: middle;\n",
       "    }\n",
       "\n",
       "    .dataframe tbody tr th {\n",
       "        vertical-align: top;\n",
       "    }\n",
       "\n",
       "    .dataframe thead th {\n",
       "        text-align: right;\n",
       "    }\n",
       "</style>\n",
       "<table border=\"1\" class=\"dataframe\">\n",
       "  <thead>\n",
       "    <tr style=\"text-align: right;\">\n",
       "      <th></th>\n",
       "      <th>PassengerId</th>\n",
       "      <th>Pclass</th>\n",
       "      <th>Name</th>\n",
       "      <th>Sex</th>\n",
       "      <th>Age</th>\n",
       "      <th>SibSp</th>\n",
       "      <th>Parch</th>\n",
       "      <th>Ticket</th>\n",
       "      <th>Fare</th>\n",
       "      <th>Cabin</th>\n",
       "      <th>Embarked</th>\n",
       "    </tr>\n",
       "  </thead>\n",
       "  <tbody>\n",
       "    <tr>\n",
       "      <th>106</th>\n",
       "      <td>107</td>\n",
       "      <td>3</td>\n",
       "      <td>Salkjelsvik, Miss. Anna Kristine</td>\n",
       "      <td>female</td>\n",
       "      <td>21.0</td>\n",
       "      <td>0</td>\n",
       "      <td>0</td>\n",
       "      <td>343120</td>\n",
       "      <td>7.6500</td>\n",
       "      <td>NaN</td>\n",
       "      <td>S</td>\n",
       "    </tr>\n",
       "    <tr>\n",
       "      <th>270</th>\n",
       "      <td>271</td>\n",
       "      <td>1</td>\n",
       "      <td>Cairns, Mr. Alexander</td>\n",
       "      <td>male</td>\n",
       "      <td>NaN</td>\n",
       "      <td>0</td>\n",
       "      <td>0</td>\n",
       "      <td>113798</td>\n",
       "      <td>31.0000</td>\n",
       "      <td>NaN</td>\n",
       "      <td>S</td>\n",
       "    </tr>\n",
       "    <tr>\n",
       "      <th>860</th>\n",
       "      <td>861</td>\n",
       "      <td>3</td>\n",
       "      <td>Hansen, Mr. Claus Peter</td>\n",
       "      <td>male</td>\n",
       "      <td>41.0</td>\n",
       "      <td>2</td>\n",
       "      <td>0</td>\n",
       "      <td>350026</td>\n",
       "      <td>14.1083</td>\n",
       "      <td>NaN</td>\n",
       "      <td>S</td>\n",
       "    </tr>\n",
       "    <tr>\n",
       "      <th>435</th>\n",
       "      <td>436</td>\n",
       "      <td>1</td>\n",
       "      <td>Carter, Miss. Lucile Polk</td>\n",
       "      <td>female</td>\n",
       "      <td>14.0</td>\n",
       "      <td>1</td>\n",
       "      <td>2</td>\n",
       "      <td>113760</td>\n",
       "      <td>120.0000</td>\n",
       "      <td>B96 B98</td>\n",
       "      <td>S</td>\n",
       "    </tr>\n",
       "    <tr>\n",
       "      <th>102</th>\n",
       "      <td>103</td>\n",
       "      <td>1</td>\n",
       "      <td>White, Mr. Richard Frasar</td>\n",
       "      <td>male</td>\n",
       "      <td>21.0</td>\n",
       "      <td>0</td>\n",
       "      <td>1</td>\n",
       "      <td>35281</td>\n",
       "      <td>77.2875</td>\n",
       "      <td>D26</td>\n",
       "      <td>S</td>\n",
       "    </tr>\n",
       "  </tbody>\n",
       "</table>\n",
       "</div>"
      ],
      "text/plain": [
       "     PassengerId  Pclass                              Name     Sex   Age  \\\n",
       "106          107       3  Salkjelsvik, Miss. Anna Kristine  female  21.0   \n",
       "270          271       1             Cairns, Mr. Alexander    male   NaN   \n",
       "860          861       3           Hansen, Mr. Claus Peter    male  41.0   \n",
       "435          436       1         Carter, Miss. Lucile Polk  female  14.0   \n",
       "102          103       1         White, Mr. Richard Frasar    male  21.0   \n",
       "\n",
       "     SibSp  Parch  Ticket      Fare    Cabin Embarked  \n",
       "106      0      0  343120    7.6500      NaN        S  \n",
       "270      0      0  113798   31.0000      NaN        S  \n",
       "860      2      0  350026   14.1083      NaN        S  \n",
       "435      1      2  113760  120.0000  B96 B98        S  \n",
       "102      0      1   35281   77.2875      D26        S  "
      ]
     },
     "execution_count": 33,
     "metadata": {},
     "output_type": "execute_result"
    }
   ],
   "source": [
    "X_train.tail()"
   ]
  },
  {
   "cell_type": "code",
   "execution_count": 32,
   "metadata": {},
   "outputs": [
    {
     "data": {
      "text/plain": [
       "106    1\n",
       "270    0\n",
       "860    0\n",
       "435    1\n",
       "102    0\n",
       "Name: Survived, dtype: int64"
      ]
     },
     "execution_count": 32,
     "metadata": {},
     "output_type": "execute_result"
    }
   ],
   "source": [
    "y_train.tail()"
   ]
  },
  {
   "cell_type": "code",
   "execution_count": 34,
   "metadata": {},
   "outputs": [
    {
     "data": {
      "text/html": [
       "<div>\n",
       "<style scoped>\n",
       "    .dataframe tbody tr th:only-of-type {\n",
       "        vertical-align: middle;\n",
       "    }\n",
       "\n",
       "    .dataframe tbody tr th {\n",
       "        vertical-align: top;\n",
       "    }\n",
       "\n",
       "    .dataframe thead th {\n",
       "        text-align: right;\n",
       "    }\n",
       "</style>\n",
       "<table border=\"1\" class=\"dataframe\">\n",
       "  <thead>\n",
       "    <tr style=\"text-align: right;\">\n",
       "      <th></th>\n",
       "      <th>PassengerId</th>\n",
       "      <th>Pclass</th>\n",
       "      <th>Name</th>\n",
       "      <th>Sex</th>\n",
       "      <th>Age</th>\n",
       "      <th>SibSp</th>\n",
       "      <th>Parch</th>\n",
       "      <th>Ticket</th>\n",
       "      <th>Fare</th>\n",
       "      <th>Cabin</th>\n",
       "      <th>Embarked</th>\n",
       "    </tr>\n",
       "  </thead>\n",
       "  <tbody>\n",
       "    <tr>\n",
       "      <th>709</th>\n",
       "      <td>710</td>\n",
       "      <td>3</td>\n",
       "      <td>Moubarek, Master. Halim Gonios (\"William George\")</td>\n",
       "      <td>male</td>\n",
       "      <td>NaN</td>\n",
       "      <td>1</td>\n",
       "      <td>1</td>\n",
       "      <td>2661</td>\n",
       "      <td>15.2458</td>\n",
       "      <td>NaN</td>\n",
       "      <td>C</td>\n",
       "    </tr>\n",
       "    <tr>\n",
       "      <th>439</th>\n",
       "      <td>440</td>\n",
       "      <td>2</td>\n",
       "      <td>Kvillner, Mr. Johan Henrik Johannesson</td>\n",
       "      <td>male</td>\n",
       "      <td>31.0</td>\n",
       "      <td>0</td>\n",
       "      <td>0</td>\n",
       "      <td>C.A. 18723</td>\n",
       "      <td>10.5000</td>\n",
       "      <td>NaN</td>\n",
       "      <td>S</td>\n",
       "    </tr>\n",
       "    <tr>\n",
       "      <th>840</th>\n",
       "      <td>841</td>\n",
       "      <td>3</td>\n",
       "      <td>Alhomaki, Mr. Ilmari Rudolf</td>\n",
       "      <td>male</td>\n",
       "      <td>20.0</td>\n",
       "      <td>0</td>\n",
       "      <td>0</td>\n",
       "      <td>SOTON/O2 3101287</td>\n",
       "      <td>7.9250</td>\n",
       "      <td>NaN</td>\n",
       "      <td>S</td>\n",
       "    </tr>\n",
       "    <tr>\n",
       "      <th>720</th>\n",
       "      <td>721</td>\n",
       "      <td>2</td>\n",
       "      <td>Harper, Miss. Annie Jessie \"Nina\"</td>\n",
       "      <td>female</td>\n",
       "      <td>6.0</td>\n",
       "      <td>0</td>\n",
       "      <td>1</td>\n",
       "      <td>248727</td>\n",
       "      <td>33.0000</td>\n",
       "      <td>NaN</td>\n",
       "      <td>S</td>\n",
       "    </tr>\n",
       "    <tr>\n",
       "      <th>39</th>\n",
       "      <td>40</td>\n",
       "      <td>3</td>\n",
       "      <td>Nicola-Yarred, Miss. Jamila</td>\n",
       "      <td>female</td>\n",
       "      <td>14.0</td>\n",
       "      <td>1</td>\n",
       "      <td>0</td>\n",
       "      <td>2651</td>\n",
       "      <td>11.2417</td>\n",
       "      <td>NaN</td>\n",
       "      <td>C</td>\n",
       "    </tr>\n",
       "  </tbody>\n",
       "</table>\n",
       "</div>"
      ],
      "text/plain": [
       "     PassengerId  Pclass                                               Name  \\\n",
       "709          710       3  Moubarek, Master. Halim Gonios (\"William George\")   \n",
       "439          440       2             Kvillner, Mr. Johan Henrik Johannesson   \n",
       "840          841       3                        Alhomaki, Mr. Ilmari Rudolf   \n",
       "720          721       2                  Harper, Miss. Annie Jessie \"Nina\"   \n",
       "39            40       3                        Nicola-Yarred, Miss. Jamila   \n",
       "\n",
       "        Sex   Age  SibSp  Parch            Ticket     Fare Cabin Embarked  \n",
       "709    male   NaN      1      1              2661  15.2458   NaN        C  \n",
       "439    male  31.0      0      0        C.A. 18723  10.5000   NaN        S  \n",
       "840    male  20.0      0      0  SOTON/O2 3101287   7.9250   NaN        S  \n",
       "720  female   6.0      0      1            248727  33.0000   NaN        S  \n",
       "39   female  14.0      1      0              2651  11.2417   NaN        C  "
      ]
     },
     "execution_count": 34,
     "metadata": {},
     "output_type": "execute_result"
    }
   ],
   "source": [
    "X_test.head()"
   ]
  },
  {
   "cell_type": "code",
   "execution_count": 35,
   "metadata": {},
   "outputs": [
    {
     "data": {
      "text/plain": [
       "709    1\n",
       "439    0\n",
       "840    0\n",
       "720    1\n",
       "39     1\n",
       "Name: Survived, dtype: int64"
      ]
     },
     "execution_count": 35,
     "metadata": {},
     "output_type": "execute_result"
    }
   ],
   "source": [
    "y_test.head()"
   ]
  },
  {
   "cell_type": "code",
   "execution_count": 87,
   "metadata": {},
   "outputs": [
    {
     "data": {
      "text/html": [
       "<div>\n",
       "<style scoped>\n",
       "    .dataframe tbody tr th:only-of-type {\n",
       "        vertical-align: middle;\n",
       "    }\n",
       "\n",
       "    .dataframe tbody tr th {\n",
       "        vertical-align: top;\n",
       "    }\n",
       "\n",
       "    .dataframe thead th {\n",
       "        text-align: right;\n",
       "    }\n",
       "</style>\n",
       "<table border=\"1\" class=\"dataframe\">\n",
       "  <thead>\n",
       "    <tr style=\"text-align: right;\">\n",
       "      <th></th>\n",
       "      <th>PassengerId</th>\n",
       "      <th>Pclass</th>\n",
       "      <th>Name</th>\n",
       "      <th>Sex</th>\n",
       "      <th>Age</th>\n",
       "      <th>SibSp</th>\n",
       "      <th>Parch</th>\n",
       "      <th>Ticket</th>\n",
       "      <th>Fare</th>\n",
       "      <th>Cabin</th>\n",
       "      <th>Embarked</th>\n",
       "    </tr>\n",
       "  </thead>\n",
       "  <tbody>\n",
       "    <tr>\n",
       "      <th>0</th>\n",
       "      <td>892</td>\n",
       "      <td>3</td>\n",
       "      <td>Kelly, Mr. James</td>\n",
       "      <td>male</td>\n",
       "      <td>34.5</td>\n",
       "      <td>0</td>\n",
       "      <td>0</td>\n",
       "      <td>330911</td>\n",
       "      <td>7.8292</td>\n",
       "      <td>NaN</td>\n",
       "      <td>Q</td>\n",
       "    </tr>\n",
       "    <tr>\n",
       "      <th>1</th>\n",
       "      <td>893</td>\n",
       "      <td>3</td>\n",
       "      <td>Wilkes, Mrs. James (Ellen Needs)</td>\n",
       "      <td>female</td>\n",
       "      <td>47.0</td>\n",
       "      <td>1</td>\n",
       "      <td>0</td>\n",
       "      <td>363272</td>\n",
       "      <td>7.0000</td>\n",
       "      <td>NaN</td>\n",
       "      <td>S</td>\n",
       "    </tr>\n",
       "    <tr>\n",
       "      <th>2</th>\n",
       "      <td>894</td>\n",
       "      <td>2</td>\n",
       "      <td>Myles, Mr. Thomas Francis</td>\n",
       "      <td>male</td>\n",
       "      <td>62.0</td>\n",
       "      <td>0</td>\n",
       "      <td>0</td>\n",
       "      <td>240276</td>\n",
       "      <td>9.6875</td>\n",
       "      <td>NaN</td>\n",
       "      <td>Q</td>\n",
       "    </tr>\n",
       "    <tr>\n",
       "      <th>3</th>\n",
       "      <td>895</td>\n",
       "      <td>3</td>\n",
       "      <td>Wirz, Mr. Albert</td>\n",
       "      <td>male</td>\n",
       "      <td>27.0</td>\n",
       "      <td>0</td>\n",
       "      <td>0</td>\n",
       "      <td>315154</td>\n",
       "      <td>8.6625</td>\n",
       "      <td>NaN</td>\n",
       "      <td>S</td>\n",
       "    </tr>\n",
       "    <tr>\n",
       "      <th>4</th>\n",
       "      <td>896</td>\n",
       "      <td>3</td>\n",
       "      <td>Hirvonen, Mrs. Alexander (Helga E Lindqvist)</td>\n",
       "      <td>female</td>\n",
       "      <td>22.0</td>\n",
       "      <td>1</td>\n",
       "      <td>1</td>\n",
       "      <td>3101298</td>\n",
       "      <td>12.2875</td>\n",
       "      <td>NaN</td>\n",
       "      <td>S</td>\n",
       "    </tr>\n",
       "  </tbody>\n",
       "</table>\n",
       "</div>"
      ],
      "text/plain": [
       "   PassengerId  Pclass                                          Name     Sex  \\\n",
       "0          892       3                              Kelly, Mr. James    male   \n",
       "1          893       3              Wilkes, Mrs. James (Ellen Needs)  female   \n",
       "2          894       2                     Myles, Mr. Thomas Francis    male   \n",
       "3          895       3                              Wirz, Mr. Albert    male   \n",
       "4          896       3  Hirvonen, Mrs. Alexander (Helga E Lindqvist)  female   \n",
       "\n",
       "    Age  SibSp  Parch   Ticket     Fare Cabin Embarked  \n",
       "0  34.5      0      0   330911   7.8292   NaN        Q  \n",
       "1  47.0      1      0   363272   7.0000   NaN        S  \n",
       "2  62.0      0      0   240276   9.6875   NaN        Q  \n",
       "3  27.0      0      0   315154   8.6625   NaN        S  \n",
       "4  22.0      1      1  3101298  12.2875   NaN        S  "
      ]
     },
     "execution_count": 87,
     "metadata": {},
     "output_type": "execute_result"
    }
   ],
   "source": [
    "test.head()"
   ]
  },
  {
   "cell_type": "markdown",
   "metadata": {},
   "source": [
    "### Copied from other notebook"
   ]
  },
  {
   "cell_type": "markdown",
   "metadata": {},
   "source": [
    "There are multiple approcahes to approcahing this problem.\n",
    "In general, the following steps are performed in creating a framework to operate on the given dataset.\n",
    "1. Determine the relevant packages/libraries involved\n",
    "2. Determine the nature of dataset - tabular/textual\n",
    "3. Nature of operation to be performed: Data Analysis vs Machine Learning/Modelling\n",
    "\n",
    "**Loading the relevant packages as below:**\n",
    "In Python, numpy, pandas, matplotlib and seaborn are the four packages that are needed for most of the data analysis and exploration purposes.\n",
    "These four can be considered to be uploaded by default epecially in cases where data is in tabular format and can be easily represented as  dataframe.\n",
    "\n",
    "**sklearn** is a comprehensive library used for Machine Learning.\n"
   ]
  },
  {
   "cell_type": "code",
   "execution_count": null,
   "metadata": {},
   "outputs": [],
   "source": [
    "import pandas as pd\n",
    "import numpy as np\n",
    "import matplotlib.pyplot as plt\n",
    "import seaborn as sns\n",
    "%matplotlib inline\n",
    "\n",
    "from sklearn.model_selection import cross_val_score\n",
    "from sklearn.linear_model import LogisticRegression\n",
    "from sklearn.svm import SVC, LinearSVC\n",
    "from sklearn.ensemble import RandomForestClassifier\n",
    "\n",
    "from sklearn.utils import shuffle\n",
    "\n",
    "from sklearn.model_selection import learning_curve\n",
    "from sklearn.model_selection import ShuffleSplit"
   ]
  },
  {
   "cell_type": "markdown",
   "metadata": {},
   "source": [
    "### Part I: A Gentle Introduction\n",
    "**A Bird's Eye View: Exploration to obtain an overview**\n"
   ]
  },
  {
   "cell_type": "code",
   "execution_count": null,
   "metadata": {},
   "outputs": [],
   "source": [
    "# info ===> R command: str()\n",
    "print(train.info())\n",
    "# This shows that the training dataset has 12 columns.\n",
    "# Total number of rows and columns as well as datatypes of each columns\n",
    "# is also provided here.\n",
    "# This data is also provided in the metadata given on Kaggle.\n",
    "# Survived is the label/output/column which will be predicted for test data.\n",
    "\n",
    "# Printing out the rows and columns using .shape() ===> R command: dim()\n",
    "print(\"\\nTraining Dataset: Rows %s, Columns %s\" %(train.shape[0], train.shape[1]))\n",
    "\n",
    "# Related observations will be made below, after train.head() has been explored."
   ]
  },
  {
   "cell_type": "code",
   "execution_count": null,
   "metadata": {},
   "outputs": [],
   "source": [
    "# info ===> R command: str()\n",
    "print(test.info())\n",
    "# This shows that the test dataset has 11 columns.\n",
    "# Survived is the missing column which will be predicted for test data.\n",
    "\n",
    "# Printing out the rows and columns using .shape() ===> R command: dim()\n",
    "print(\"\\nTest Dataset: Rows %s, Columns %s\" %(test.shape[0], test.shape[1]))\n"
   ]
  },
  {
   "cell_type": "code",
   "execution_count": null,
   "metadata": {},
   "outputs": [],
   "source": [
    "# Exploring few rows of training dataset\n",
    "# .head() ===> R Command: head()\n",
    "# .tail() ===> R Command: tail()\n",
    "train.head(10)\n",
    "#train.tail(5)"
   ]
  },
  {
   "cell_type": "markdown",
   "metadata": {},
   "source": [
    "**A Small Taste of the Mystery: Some observations**\n",
    "1. PassengerId is assigned to a person. It is expected that there will be a unique PassengerId for each passenger. This will be explored further by comparing the count of unique PassengerIds with the number of rows in the training dataset(891).\n",
    "2. Survived column is the label/output. This column will be separated later into y_train (output) and rest of the dataframe as x_train (input). SInce labels are given for the training dataset, this is a Supervised Learning problem.\n",
    "                           x_train ========== OUR MODEL ============> y_predicted\n",
    "                           Objective: Minimize (y_train - y_predicted) i.e. Training Error\n",
    "    (PLEASE NOTE: This is a very simplistic representaion of training the model. Different issues of bias-variance tradeoff and overfitting will also come into the picture. These will be discussed later. Right now, the goal is to minimize training error to obtain a well trained model.)\n",
    "                                \n",
    "3. Pclass is a categorical variable with 3 values: 1,2,3. This is the same as the concept of factor() and levels in R.\n",
    "4. Name of the passengers: SOme text cleaning and processing may be performed to get insights into survival chances.\n",
    "5. Sex gives the gender. It appears to be a categorical variable with 2 levels.\n",
    "6. Age is a numerical value. It can be converted into a categorical variable later on - dividing the population into different age groups: 0-5, 5-15, 15-30, 30-45, 45-60, 60-100. Also, this column has many missing values.\n",
    "7. SibSp and Parch are also variables with numerical values.\n",
    "8. Ticket gives the ticket number. It may not be a useful variable for our purposes as will be seen later.\n",
    "9. Fare - numerical value. It may be strongly correlated with Pclass also. Thus, it may be left out to avoid overfitting.\n",
    "10. Cabin - The very high number of missing values and the information itself appears to be useless for our purposes.\n",
    "11. Embarked is also a categorical variable. It will need further exploration to determine its usefulness.\n",
    "\n",
    "Overall, it appears clear that the following columns will be important:\n",
    "1. Pclass\n",
    "2. Sex\n",
    "3. Age\n",
    "4. Sibsp\n",
    "5. Parch\n",
    "6. Embarked - 'Lucky, maybe?\n",
    "7. Name - Some information such as title may be derived from it.\n",
    "\n",
    "The following columns can be dropped - \n",
    "1. Ticket\n",
    "2. Fare\n",
    "3. Cabin\n",
    "\n",
    "PassengerId is the index.\n",
    "Survived is the output.\n"
   ]
  },
  {
   "cell_type": "code",
   "execution_count": null,
   "metadata": {},
   "outputs": [],
   "source": []
  },
  {
   "cell_type": "code",
   "execution_count": null,
   "metadata": {},
   "outputs": [],
   "source": []
  },
  {
   "cell_type": "code",
   "execution_count": null,
   "metadata": {},
   "outputs": [],
   "source": []
  },
  {
   "cell_type": "code",
   "execution_count": null,
   "metadata": {},
   "outputs": [],
   "source": []
  },
  {
   "cell_type": "code",
   "execution_count": null,
   "metadata": {},
   "outputs": [],
   "source": []
  },
  {
   "cell_type": "code",
   "execution_count": null,
   "metadata": {},
   "outputs": [],
   "source": []
  },
  {
   "cell_type": "code",
   "execution_count": null,
   "metadata": {},
   "outputs": [],
   "source": []
  },
  {
   "cell_type": "code",
   "execution_count": null,
   "metadata": {},
   "outputs": [],
   "source": []
  }
 ],
 "metadata": {
  "kernelspec": {
   "display_name": "Python 3",
   "language": "python",
   "name": "python3"
  },
  "language_info": {
   "codemirror_mode": {
    "name": "ipython",
    "version": 3
   },
   "file_extension": ".py",
   "mimetype": "text/x-python",
   "name": "python",
   "nbconvert_exporter": "python",
   "pygments_lexer": "ipython3",
   "version": "3.6.4"
  }
 },
 "nbformat": 4,
 "nbformat_minor": 2
}
